{
  "nbformat": 4,
  "nbformat_minor": 0,
  "metadata": {
    "colab": {
      "provenance": [],
      "gpuType": "T4",
      "authorship_tag": "ABX9TyMiTujTlGQ5Lahup0yCHxZ2",
      "include_colab_link": true
    },
    "kernelspec": {
      "name": "python3",
      "display_name": "Python 3"
    },
    "language_info": {
      "name": "python"
    },
    "accelerator": "GPU"
  },
  "cells": [
    {
      "cell_type": "markdown",
      "metadata": {
        "id": "view-in-github",
        "colab_type": "text"
      },
      "source": [
        "<a href=\"https://colab.research.google.com/github/Sunnnyyy16/NLP_withPytorch/blob/main/chap1/NLP_pytorch_chap1.ipynb\" target=\"_parent\"><img src=\"https://colab.research.google.com/assets/colab-badge.svg\" alt=\"Open In Colab\"/></a>"
      ]
    },
    {
      "cell_type": "markdown",
      "source": [
        "# PytTorch Basics"
      ],
      "metadata": {
        "id": "mdctIP_csj_v"
      }
    },
    {
      "cell_type": "code",
      "execution_count": null,
      "metadata": {
        "id": "m-Df5BDGrqDa",
        "colab": {
          "base_uri": "https://localhost:8080/"
        },
        "outputId": "fd1bf73e-b72d-4247-f6fa-0f364fc670ee"
      },
      "outputs": [
        {
          "output_type": "execute_result",
          "data": {
            "text/plain": [
              "<torch._C.Generator at 0x7d478818c510>"
            ]
          },
          "metadata": {},
          "execution_count": 3
        }
      ],
      "source": [
        "import torch\n",
        "import numpy as np\n",
        "torch.manual_seed(1234)"
      ]
    },
    {
      "cell_type": "markdown",
      "source": [
        "# Tensors\n",
        "* Scalar is a single number.\n",
        "* Vector is an array of numbers.\n",
        "* Matrix is a 2-D array of numbers\n",
        "* Tensors are N-D arrays of numbers."
      ],
      "metadata": {
        "id": "v1MKrgacspYC"
      }
    },
    {
      "cell_type": "markdown",
      "source": [
        "## Creating Tensors\n",
        "You can create tensors by specifying the shape as arguments. Here is a tensor with 2 rows and 3 columns"
      ],
      "metadata": {
        "id": "HosihXoys0wo"
      }
    },
    {
      "cell_type": "code",
      "source": [
        "def describe(x):\n",
        "  print(\"Type: {}\".format(x.type()))\n",
        "  print(\"Shape/size: {}\".format(x.shape))\n",
        "  print(\"Values:\\n{}\".format(x))"
      ],
      "metadata": {
        "id": "Gs87mcsns6mh"
      },
      "execution_count": null,
      "outputs": []
    },
    {
      "cell_type": "code",
      "source": [
        "describe(torch.Tensor(2,3))"
      ],
      "metadata": {
        "id": "oKkXdZ9OtGNz",
        "colab": {
          "base_uri": "https://localhost:8080/"
        },
        "outputId": "61246e15-ec09-4d28-cbec-39037f56dcd9"
      },
      "execution_count": null,
      "outputs": [
        {
          "output_type": "stream",
          "name": "stdout",
          "text": [
            "Type: torch.FloatTensor\n",
            "Shape/size: torch.Size([2, 3])\n",
            "Values:\n",
            "tensor([[8.7393e+21, 3.2561e-41, 8.7389e+21],\n",
            "        [3.2561e-41, 0.0000e+00, 0.0000e+00]])\n"
          ]
        }
      ]
    },
    {
      "cell_type": "markdown",
      "source": [
        "### Creating a randomly initialized tensor"
      ],
      "metadata": {
        "id": "VSZ0k9p9LQfY"
      }
    },
    {
      "cell_type": "code",
      "source": [
        "import torch\n",
        "describe(torch.rand(2,3)) # uniform random\n",
        "describe(torch.randn(2,3)) # random normal"
      ],
      "metadata": {
        "colab": {
          "base_uri": "https://localhost:8080/"
        },
        "id": "TXm3WTM5LIPN",
        "outputId": "2cc44d45-d764-439c-ef37-ab4df6812feb"
      },
      "execution_count": null,
      "outputs": [
        {
          "output_type": "stream",
          "name": "stdout",
          "text": [
            "Type: torch.FloatTensor\n",
            "Shape/size: torch.Size([2, 3])\n",
            "Values:\n",
            "tensor([[0.0518, 0.4681, 0.6738],\n",
            "        [0.3315, 0.7837, 0.5631]])\n",
            "Type: torch.FloatTensor\n",
            "Shape/size: torch.Size([2, 3])\n",
            "Values:\n",
            "tensor([[ 0.2310,  0.6931, -0.2669],\n",
            "        [ 2.1785,  0.1021, -0.2590]])\n"
          ]
        }
      ]
    },
    {
      "cell_type": "markdown",
      "source": [
        "### Creating a filled tensor"
      ],
      "metadata": {
        "id": "HvbtSKSwLZco"
      }
    },
    {
      "cell_type": "code",
      "source": [
        "describe(torch.zeros(2,3))\n",
        "x = torch.ones(2,3)\n",
        "describe(x)\n",
        "x.fill_(5)\n",
        "describe(x)"
      ],
      "metadata": {
        "id": "qyitlypFRCXL",
        "colab": {
          "base_uri": "https://localhost:8080/"
        },
        "outputId": "09544cfe-47fa-4ed2-f0aa-2e27c439faa7"
      },
      "execution_count": null,
      "outputs": [
        {
          "output_type": "stream",
          "name": "stdout",
          "text": [
            "Type: torch.FloatTensor\n",
            "Shape/size: torch.Size([2, 3])\n",
            "Values:\n",
            "tensor([[0., 0., 0.],\n",
            "        [0., 0., 0.]])\n",
            "Type: torch.FloatTensor\n",
            "Shape/size: torch.Size([2, 3])\n",
            "Values:\n",
            "tensor([[1., 1., 1.],\n",
            "        [1., 1., 1.]])\n",
            "Type: torch.FloatTensor\n",
            "Shape/size: torch.Size([2, 3])\n",
            "Values:\n",
            "tensor([[5., 5., 5.],\n",
            "        [5., 5., 5.]])\n"
          ]
        }
      ]
    },
    {
      "cell_type": "markdown",
      "source": [
        "Tensors can be initialized and then filled in place.\n",
        "\n",
        "Note: operations that end in an underscore(_) are in place operations."
      ],
      "metadata": {
        "id": "WAcGcRApRIjj"
      }
    },
    {
      "cell_type": "markdown",
      "source": [
        "Tensors can be initialized from a list of lists"
      ],
      "metadata": {
        "id": "IRvKj3N33RRC"
      }
    },
    {
      "cell_type": "markdown",
      "source": [
        "### Creating and initializing a tensor from lists"
      ],
      "metadata": {
        "id": "_JbxSfsmLlZb"
      }
    },
    {
      "cell_type": "code",
      "source": [
        "x = torch.Tensor([[1,2,3],\n",
        "                  [4,5,6]])\n",
        "describe(x)"
      ],
      "metadata": {
        "colab": {
          "base_uri": "https://localhost:8080/"
        },
        "id": "ObPNOMsCLosa",
        "outputId": "afeb69c0-7c96-46ac-ad6e-187411ad9611"
      },
      "execution_count": null,
      "outputs": [
        {
          "output_type": "stream",
          "name": "stdout",
          "text": [
            "Type: torch.FloatTensor\n",
            "Shape/size: torch.Size([2, 3])\n",
            "Values:\n",
            "tensor([[1., 2., 3.],\n",
            "        [4., 5., 6.]])\n"
          ]
        }
      ]
    },
    {
      "cell_type": "markdown",
      "source": [
        "### Creating and initializing a tensor from NumPy"
      ],
      "metadata": {
        "id": "Bgnm8NMJLwX7"
      }
    },
    {
      "cell_type": "code",
      "source": [
        "import torch\n",
        "import numpy as np\n",
        "npy = np.random.rand(2,3)\n",
        "describe(torch.from_numpy(npy))"
      ],
      "metadata": {
        "colab": {
          "base_uri": "https://localhost:8080/"
        },
        "id": "V26LLWQ1L0zG",
        "outputId": "b84115e0-5cb3-4f47-acb7-468a0bf81409"
      },
      "execution_count": null,
      "outputs": [
        {
          "output_type": "stream",
          "name": "stdout",
          "text": [
            "Type: torch.DoubleTensor\n",
            "Shape/size: torch.Size([2, 3])\n",
            "Values:\n",
            "tensor([[0.6390, 0.9942, 0.8277],\n",
            "        [0.8480, 0.4551, 0.0487]], dtype=torch.float64)\n"
          ]
        }
      ]
    },
    {
      "cell_type": "markdown",
      "source": [
        "DoubleTensor: torch.float64"
      ],
      "metadata": {
        "id": "YY4V-id2Md5J"
      }
    },
    {
      "cell_type": "markdown",
      "source": [
        "## Tensor Types and Size"
      ],
      "metadata": {
        "id": "P0WhuvD3MiBZ"
      }
    },
    {
      "cell_type": "markdown",
      "source": [
        "### Tensor properties"
      ],
      "metadata": {
        "id": "yu1ht2X2Ytem"
      }
    },
    {
      "cell_type": "code",
      "source": [
        "x = torch.FloatTensor([[1,2,3],\n",
        "                       [4,5,6]])\n",
        "describe(x)"
      ],
      "metadata": {
        "colab": {
          "base_uri": "https://localhost:8080/"
        },
        "id": "cCAJ1x79MoVh",
        "outputId": "cab8fa94-d8f3-4d88-a9b9-f9835fc4eb0b"
      },
      "execution_count": null,
      "outputs": [
        {
          "output_type": "stream",
          "name": "stdout",
          "text": [
            "Type: torch.FloatTensor\n",
            "Shape/size: torch.Size([2, 3])\n",
            "Values:\n",
            "tensor([[1., 2., 3.],\n",
            "        [4., 5., 6.]])\n"
          ]
        }
      ]
    },
    {
      "cell_type": "code",
      "source": [
        "x = x.long()\n",
        "describe(x)"
      ],
      "metadata": {
        "colab": {
          "base_uri": "https://localhost:8080/"
        },
        "id": "trWNH3L3MtyB",
        "outputId": "868fe742-b6d1-420a-ec38-7c3df2d74a3e"
      },
      "execution_count": null,
      "outputs": [
        {
          "output_type": "stream",
          "name": "stdout",
          "text": [
            "Type: torch.LongTensor\n",
            "Shape/size: torch.Size([2, 3])\n",
            "Values:\n",
            "tensor([[1, 2, 3],\n",
            "        [4, 5, 6]])\n"
          ]
        }
      ]
    },
    {
      "cell_type": "markdown",
      "source": [
        "LongTensor: 64-bit integer"
      ],
      "metadata": {
        "id": "J8TUkw8ZMzvT"
      }
    },
    {
      "cell_type": "code",
      "source": [
        "x = torch.tensor([[1,2,3],\n",
        "                  [4,5,6]],dtype=torch.int64)\n",
        "describe(x)"
      ],
      "metadata": {
        "colab": {
          "base_uri": "https://localhost:8080/"
        },
        "id": "9Q7HmepgM3sZ",
        "outputId": "91e8d70f-cb21-433e-8b4e-419d4c24967c"
      },
      "execution_count": null,
      "outputs": [
        {
          "output_type": "stream",
          "name": "stdout",
          "text": [
            "Type: torch.LongTensor\n",
            "Shape/size: torch.Size([2, 3])\n",
            "Values:\n",
            "tensor([[1, 2, 3],\n",
            "        [4, 5, 6]])\n"
          ]
        }
      ]
    },
    {
      "cell_type": "code",
      "source": [
        "x = x.float()\n",
        "describe(x)"
      ],
      "metadata": {
        "colab": {
          "base_uri": "https://localhost:8080/"
        },
        "id": "y7EcVYZeM3qS",
        "outputId": "3e94f550-f224-4602-f99a-e761203fb062"
      },
      "execution_count": null,
      "outputs": [
        {
          "output_type": "stream",
          "name": "stdout",
          "text": [
            "Type: torch.FloatTensor\n",
            "Shape/size: torch.Size([2, 3])\n",
            "Values:\n",
            "tensor([[1., 2., 3.],\n",
            "        [4., 5., 6.]])\n"
          ]
        }
      ]
    },
    {
      "cell_type": "markdown",
      "source": [
        "## Tensor Operations"
      ],
      "metadata": {
        "id": "VE12n5AzNGBj"
      }
    },
    {
      "cell_type": "markdown",
      "source": [
        "### Tensor operations: addition"
      ],
      "metadata": {
        "id": "6OWqLa6xNJjT"
      }
    },
    {
      "cell_type": "code",
      "source": [
        "import torch\n",
        "x = torch.randn(2,3)\n",
        "describe(x)"
      ],
      "metadata": {
        "colab": {
          "base_uri": "https://localhost:8080/"
        },
        "id": "Rw1v3QatM3n_",
        "outputId": "8c9b66b6-29b6-4c46-a1e4-dcf3c1b8261c"
      },
      "execution_count": null,
      "outputs": [
        {
          "output_type": "stream",
          "name": "stdout",
          "text": [
            "Type: torch.FloatTensor\n",
            "Shape/size: torch.Size([2, 3])\n",
            "Values:\n",
            "tensor([[-0.1549, -1.3706, -0.1319],\n",
            "        [ 0.8848, -0.2611,  0.6104]])\n"
          ]
        }
      ]
    },
    {
      "cell_type": "code",
      "source": [
        "describe(torch.add(x,x))"
      ],
      "metadata": {
        "colab": {
          "base_uri": "https://localhost:8080/"
        },
        "id": "1I2wyZxHM3lt",
        "outputId": "ec1e0cd8-ef78-4fda-ecce-d836c10d3f0d"
      },
      "execution_count": null,
      "outputs": [
        {
          "output_type": "stream",
          "name": "stdout",
          "text": [
            "Type: torch.FloatTensor\n",
            "Shape/size: torch.Size([2, 3])\n",
            "Values:\n",
            "tensor([[-0.3098, -2.7412, -0.2638],\n",
            "        [ 1.7697, -0.5222,  1.2208]])\n"
          ]
        }
      ]
    },
    {
      "cell_type": "code",
      "source": [
        "describe(x+x)"
      ],
      "metadata": {
        "colab": {
          "base_uri": "https://localhost:8080/"
        },
        "id": "p8VfAoaDM3jp",
        "outputId": "af2b02b4-4d83-4add-86dd-fbb433325304"
      },
      "execution_count": null,
      "outputs": [
        {
          "output_type": "stream",
          "name": "stdout",
          "text": [
            "Type: torch.FloatTensor\n",
            "Shape/size: torch.Size([2, 3])\n",
            "Values:\n",
            "tensor([[-0.3098, -2.7412, -0.2638],\n",
            "        [ 1.7697, -0.5222,  1.2208]])\n"
          ]
        }
      ]
    },
    {
      "cell_type": "markdown",
      "source": [
        "### Dimension-based tensor operations"
      ],
      "metadata": {
        "id": "PB0FZmc0NYAA"
      }
    },
    {
      "cell_type": "code",
      "source": [
        "import torch\n",
        "x = torch.arange(6)\n",
        "describe(x)"
      ],
      "metadata": {
        "colab": {
          "base_uri": "https://localhost:8080/"
        },
        "id": "tQwipuwoM3hL",
        "outputId": "34a9f90b-ebf1-42bd-e0fd-2a0d1cb83e86"
      },
      "execution_count": null,
      "outputs": [
        {
          "output_type": "stream",
          "name": "stdout",
          "text": [
            "Type: torch.LongTensor\n",
            "Shape/size: torch.Size([6])\n",
            "Values:\n",
            "tensor([0, 1, 2, 3, 4, 5])\n"
          ]
        }
      ]
    },
    {
      "cell_type": "code",
      "source": [
        "x = x.view(2,3)\n",
        "describe(x)"
      ],
      "metadata": {
        "colab": {
          "base_uri": "https://localhost:8080/"
        },
        "id": "C8smMwlQM3ef",
        "outputId": "80161ada-401b-48de-d884-52dc5e6ca41e"
      },
      "execution_count": null,
      "outputs": [
        {
          "output_type": "stream",
          "name": "stdout",
          "text": [
            "Type: torch.LongTensor\n",
            "Shape/size: torch.Size([2, 3])\n",
            "Values:\n",
            "tensor([[0, 1, 2],\n",
            "        [3, 4, 5]])\n"
          ]
        }
      ]
    },
    {
      "cell_type": "code",
      "source": [
        "describe(torch.sum(x,dim=0))"
      ],
      "metadata": {
        "colab": {
          "base_uri": "https://localhost:8080/"
        },
        "id": "Wp5nPJrlM3cZ",
        "outputId": "840d9167-e4de-486c-b358-bb5031c19743"
      },
      "execution_count": null,
      "outputs": [
        {
          "output_type": "stream",
          "name": "stdout",
          "text": [
            "Type: torch.LongTensor\n",
            "Shape/size: torch.Size([3])\n",
            "Values:\n",
            "tensor([3, 5, 7])\n"
          ]
        }
      ]
    },
    {
      "cell_type": "code",
      "source": [
        "describe(torch.sum(x,dim=1))"
      ],
      "metadata": {
        "colab": {
          "base_uri": "https://localhost:8080/"
        },
        "id": "NYeJOx7oM3Z7",
        "outputId": "6f4859ca-2c38-4409-eb1c-809efbe3100c"
      },
      "execution_count": null,
      "outputs": [
        {
          "output_type": "stream",
          "name": "stdout",
          "text": [
            "Type: torch.LongTensor\n",
            "Shape/size: torch.Size([2])\n",
            "Values:\n",
            "tensor([ 3, 12])\n"
          ]
        }
      ]
    },
    {
      "cell_type": "code",
      "source": [
        "describe(torch.transpose(x,0,1))"
      ],
      "metadata": {
        "colab": {
          "base_uri": "https://localhost:8080/"
        },
        "id": "mTzWVL_PM3X0",
        "outputId": "21153b0f-10da-445f-bb33-fd403c250ea3"
      },
      "execution_count": null,
      "outputs": [
        {
          "output_type": "stream",
          "name": "stdout",
          "text": [
            "Type: torch.LongTensor\n",
            "Shape/size: torch.Size([3, 2])\n",
            "Values:\n",
            "tensor([[0, 3],\n",
            "        [1, 4],\n",
            "        [2, 5]])\n"
          ]
        }
      ]
    },
    {
      "cell_type": "markdown",
      "source": [
        "## Indexing, Slicing and Joining"
      ],
      "metadata": {
        "id": "2Boi8UQbN02i"
      }
    },
    {
      "cell_type": "markdown",
      "source": [
        "### Slicing and indexing a tensor"
      ],
      "metadata": {
        "id": "7mMJpgPNOARd"
      }
    },
    {
      "cell_type": "code",
      "source": [
        "import torch\n",
        "x =torch.arange(6).view(2,3)\n",
        "describe(x)"
      ],
      "metadata": {
        "colab": {
          "base_uri": "https://localhost:8080/"
        },
        "id": "Fd9aP_AfM3VY",
        "outputId": "7fef5136-f592-4381-8ef2-027ea728ef2f"
      },
      "execution_count": null,
      "outputs": [
        {
          "output_type": "stream",
          "name": "stdout",
          "text": [
            "Type: torch.LongTensor\n",
            "Shape/size: torch.Size([2, 3])\n",
            "Values:\n",
            "tensor([[0, 1, 2],\n",
            "        [3, 4, 5]])\n"
          ]
        }
      ]
    },
    {
      "cell_type": "code",
      "source": [
        "describe(x[:1,:2])"
      ],
      "metadata": {
        "colab": {
          "base_uri": "https://localhost:8080/"
        },
        "id": "jRs9GkTIN3ls",
        "outputId": "8624b65c-9ef0-4e60-e25b-83bb60e954e2"
      },
      "execution_count": null,
      "outputs": [
        {
          "output_type": "stream",
          "name": "stdout",
          "text": [
            "Type: torch.LongTensor\n",
            "Shape/size: torch.Size([1, 2])\n",
            "Values:\n",
            "tensor([[0, 1]])\n"
          ]
        }
      ]
    },
    {
      "cell_type": "code",
      "source": [
        "describe(x[0,1])"
      ],
      "metadata": {
        "colab": {
          "base_uri": "https://localhost:8080/"
        },
        "id": "wHvzfitzN3i1",
        "outputId": "905bd468-7174-4dc1-e3b1-f65a75eddf1c"
      },
      "execution_count": null,
      "outputs": [
        {
          "output_type": "stream",
          "name": "stdout",
          "text": [
            "Type: torch.LongTensor\n",
            "Shape/size: torch.Size([])\n",
            "Values:\n",
            "1\n"
          ]
        }
      ]
    },
    {
      "cell_type": "markdown",
      "source": [
        "### Complex indexing: noncontiguous indexing of a tensor"
      ],
      "metadata": {
        "id": "xqsZ8xgiOMlj"
      }
    },
    {
      "cell_type": "code",
      "source": [
        "indices = torch.LongTensor([0,2])\n",
        "describe(torch.index_select(x,dim=1, index=indices))"
      ],
      "metadata": {
        "colab": {
          "base_uri": "https://localhost:8080/"
        },
        "id": "6XuWTUXAN3gn",
        "outputId": "18197ca0-7fa5-4290-e050-002b79ba783a"
      },
      "execution_count": null,
      "outputs": [
        {
          "output_type": "stream",
          "name": "stdout",
          "text": [
            "Type: torch.LongTensor\n",
            "Shape/size: torch.Size([2, 2])\n",
            "Values:\n",
            "tensor([[0, 2],\n",
            "        [3, 5]])\n"
          ]
        }
      ]
    },
    {
      "cell_type": "code",
      "source": [
        "indices = torch.LongTensor([0,0])\n",
        "describe(torch.index_select(x,dim=0,index=indices))"
      ],
      "metadata": {
        "colab": {
          "base_uri": "https://localhost:8080/"
        },
        "id": "bmjnCYUwN3eA",
        "outputId": "94e24dc2-0866-4ad1-c758-7cc43836089a"
      },
      "execution_count": null,
      "outputs": [
        {
          "output_type": "stream",
          "name": "stdout",
          "text": [
            "Type: torch.LongTensor\n",
            "Shape/size: torch.Size([2, 3])\n",
            "Values:\n",
            "tensor([[0, 1, 2],\n",
            "        [0, 1, 2]])\n"
          ]
        }
      ]
    },
    {
      "cell_type": "code",
      "source": [
        "row_indices = torch.arange(2).long()\n",
        "col_indices = torch.LongTensor([0,1])\n",
        "describe(x[row_indices,col_indices])"
      ],
      "metadata": {
        "colab": {
          "base_uri": "https://localhost:8080/"
        },
        "id": "L5aiwjAjN3bR",
        "outputId": "e0622cc0-e445-45a7-d726-77e633124335"
      },
      "execution_count": null,
      "outputs": [
        {
          "output_type": "stream",
          "name": "stdout",
          "text": [
            "Type: torch.LongTensor\n",
            "Shape/size: torch.Size([2])\n",
            "Values:\n",
            "tensor([0, 4])\n"
          ]
        }
      ]
    },
    {
      "cell_type": "markdown",
      "source": [
        "* row_indices = [0, 1]과 col_indices = [0, 1]은 각각 행과 열의 인덱스를 나타냅니다.\n",
        "* x[row_indices, col_indices]는 x[0, 0]과 x[1, 1]의 값을 선택하여 [0, 4]를 출력합니다."
      ],
      "metadata": {
        "id": "ShAGFoNoQG_5"
      }
    },
    {
      "cell_type": "markdown",
      "source": [
        "### Concatenating tensors"
      ],
      "metadata": {
        "id": "Gaux6u75QOZI"
      }
    },
    {
      "cell_type": "code",
      "source": [
        "import torch\n",
        "x = torch.arange(6).view(2,3)\n",
        "describe(x)"
      ],
      "metadata": {
        "colab": {
          "base_uri": "https://localhost:8080/"
        },
        "id": "LFbl-rZuN3WU",
        "outputId": "30a35837-9c63-42cf-ff3a-1b012dddff2d"
      },
      "execution_count": null,
      "outputs": [
        {
          "output_type": "stream",
          "name": "stdout",
          "text": [
            "Type: torch.LongTensor\n",
            "Shape/size: torch.Size([2, 3])\n",
            "Values:\n",
            "tensor([[0, 1, 2],\n",
            "        [3, 4, 5]])\n"
          ]
        }
      ]
    },
    {
      "cell_type": "code",
      "source": [
        "describe(torch.cat([x,x],dim=0))"
      ],
      "metadata": {
        "colab": {
          "base_uri": "https://localhost:8080/"
        },
        "id": "Fq5tz9_9N3T-",
        "outputId": "f58271a2-cdb5-4fd3-b766-1490bc90d479"
      },
      "execution_count": null,
      "outputs": [
        {
          "output_type": "stream",
          "name": "stdout",
          "text": [
            "Type: torch.LongTensor\n",
            "Shape/size: torch.Size([4, 3])\n",
            "Values:\n",
            "tensor([[0, 1, 2],\n",
            "        [3, 4, 5],\n",
            "        [0, 1, 2],\n",
            "        [3, 4, 5]])\n"
          ]
        }
      ]
    },
    {
      "cell_type": "code",
      "source": [
        "describe(torch.cat([x,x],dim=1))"
      ],
      "metadata": {
        "colab": {
          "base_uri": "https://localhost:8080/"
        },
        "id": "vNIPv2fXN3Ro",
        "outputId": "ddcafc00-240f-4282-ecdc-6e2bbf6c8399"
      },
      "execution_count": null,
      "outputs": [
        {
          "output_type": "stream",
          "name": "stdout",
          "text": [
            "Type: torch.LongTensor\n",
            "Shape/size: torch.Size([2, 6])\n",
            "Values:\n",
            "tensor([[0, 1, 2, 0, 1, 2],\n",
            "        [3, 4, 5, 3, 4, 5]])\n"
          ]
        }
      ]
    },
    {
      "cell_type": "code",
      "source": [
        "describe(torch.stack([x,x]))"
      ],
      "metadata": {
        "colab": {
          "base_uri": "https://localhost:8080/"
        },
        "id": "ToXP1st_N3PK",
        "outputId": "7905d383-da58-4112-914a-7ec2709b1cdf"
      },
      "execution_count": null,
      "outputs": [
        {
          "output_type": "stream",
          "name": "stdout",
          "text": [
            "Type: torch.LongTensor\n",
            "Shape/size: torch.Size([2, 2, 3])\n",
            "Values:\n",
            "tensor([[[0, 1, 2],\n",
            "         [3, 4, 5]],\n",
            "\n",
            "        [[0, 1, 2],\n",
            "         [3, 4, 5]]])\n"
          ]
        }
      ]
    },
    {
      "cell_type": "markdown",
      "source": [
        "### Linear algebra on tensors: multiplication"
      ],
      "metadata": {
        "id": "VDVPd8mVQnoM"
      }
    },
    {
      "cell_type": "code",
      "source": [
        "import torch\n",
        "x1 = torch.arange(6).view(2,3)\n",
        "x1= x1.float()\n",
        "describe(x1)"
      ],
      "metadata": {
        "colab": {
          "base_uri": "https://localhost:8080/"
        },
        "id": "SfRKQTTKN3M0",
        "outputId": "1158f965-50a0-482d-9ec0-89925e7a057c"
      },
      "execution_count": null,
      "outputs": [
        {
          "output_type": "stream",
          "name": "stdout",
          "text": [
            "Type: torch.FloatTensor\n",
            "Shape/size: torch.Size([2, 3])\n",
            "Values:\n",
            "tensor([[0., 1., 2.],\n",
            "        [3., 4., 5.]])\n"
          ]
        }
      ]
    },
    {
      "cell_type": "code",
      "source": [
        "x2 = torch.ones(3,2)\n",
        "x2[:,1] += 1\n",
        "describe(x2)"
      ],
      "metadata": {
        "colab": {
          "base_uri": "https://localhost:8080/"
        },
        "id": "VeNBW2hHN3Ke",
        "outputId": "8a336f40-f73c-4a51-89b0-d69db803de5d"
      },
      "execution_count": null,
      "outputs": [
        {
          "output_type": "stream",
          "name": "stdout",
          "text": [
            "Type: torch.FloatTensor\n",
            "Shape/size: torch.Size([3, 2])\n",
            "Values:\n",
            "tensor([[1., 2.],\n",
            "        [1., 2.],\n",
            "        [1., 2.]])\n"
          ]
        }
      ]
    },
    {
      "cell_type": "code",
      "source": [
        "describe(torch.mm(x1,x2)) # x1,x2 multiplication"
      ],
      "metadata": {
        "colab": {
          "base_uri": "https://localhost:8080/"
        },
        "id": "idWTHI1yN3IZ",
        "outputId": "5866cd32-1c61-4a66-8454-98c69e2b42e7"
      },
      "execution_count": null,
      "outputs": [
        {
          "output_type": "stream",
          "name": "stdout",
          "text": [
            "Type: torch.FloatTensor\n",
            "Shape/size: torch.Size([2, 2])\n",
            "Values:\n",
            "tensor([[ 3.,  6.],\n",
            "        [12., 24.]])\n"
          ]
        }
      ]
    },
    {
      "cell_type": "markdown",
      "source": [
        "## Tensors and Computational Graphs"
      ],
      "metadata": {
        "id": "PIZ5nrYURmpv"
      }
    },
    {
      "cell_type": "markdown",
      "source": [
        "### Creating tensors for gradient bookkeeping"
      ],
      "metadata": {
        "id": "Uv0iibESTbnO"
      }
    },
    {
      "cell_type": "code",
      "source": [
        "import torch\n",
        "x = torch.ones(2,2,requires_grad = True)\n",
        "describe(x)\n",
        "print(x.grad is None)"
      ],
      "metadata": {
        "colab": {
          "base_uri": "https://localhost:8080/"
        },
        "id": "NAqETzMkQ8wj",
        "outputId": "a40f43a9-1f5f-4aed-ddbe-01202c43ce92"
      },
      "execution_count": null,
      "outputs": [
        {
          "output_type": "stream",
          "name": "stdout",
          "text": [
            "Type: torch.FloatTensor\n",
            "Shape/size: torch.Size([2, 2])\n",
            "Values:\n",
            "tensor([[1., 1.],\n",
            "        [1., 1.]], requires_grad=True)\n",
            "True\n"
          ]
        }
      ]
    },
    {
      "cell_type": "markdown",
      "source": [
        "requires_grad = True\n",
        "\n",
        "* bookkeeping operations가 tensor의 gradient, gradient function을 추적가능\n",
        "* PyTorch가 forward pass의 value 추적하고 계산 마지막의 a single scalar가 backward pass 계산에 사용.\n",
        "* backward pass는 `backward()` 로 초기화 가능. 해당 tensor는 loss fcn의 평가에 사용."
      ],
      "metadata": {
        "id": "cQUKylqFTsEZ"
      }
    },
    {
      "cell_type": "code",
      "source": [
        "y = (x+2)*(x+5)+3\n",
        "describe(y)\n",
        "print(x.grad is None)"
      ],
      "metadata": {
        "colab": {
          "base_uri": "https://localhost:8080/"
        },
        "id": "HN29VOLCRpfh",
        "outputId": "b5253679-55e3-463a-c3cb-9f2e89009853"
      },
      "execution_count": null,
      "outputs": [
        {
          "output_type": "stream",
          "name": "stdout",
          "text": [
            "Type: torch.FloatTensor\n",
            "Shape/size: torch.Size([2, 2])\n",
            "Values:\n",
            "tensor([[21., 21.],\n",
            "        [21., 21.]], grad_fn=<AddBackward0>)\n",
            "True\n"
          ]
        }
      ]
    },
    {
      "cell_type": "code",
      "source": [
        "z = y.mean()\n",
        "describe(z)\n",
        "z.backward()\n",
        "print(x.grad is None)"
      ],
      "metadata": {
        "colab": {
          "base_uri": "https://localhost:8080/"
        },
        "id": "SgQ1_gzVRpdE",
        "outputId": "6c1a652e-a052-4eb0-8dec-1daa39642c64"
      },
      "execution_count": null,
      "outputs": [
        {
          "output_type": "stream",
          "name": "stdout",
          "text": [
            "Type: torch.FloatTensor\n",
            "Shape/size: torch.Size([])\n",
            "Values:\n",
            "21.0\n",
            "False\n"
          ]
        }
      ]
    },
    {
      "cell_type": "markdown",
      "source": [
        "## CUDA Tensors\n",
        "* CUDA API는 NVIDIA GPUs에서만 사용 가능\n",
        "* PyTorch는 CUDA tensor object 제공, CPU에서 GPU로 tensor 바꾸는 것 가능"
      ],
      "metadata": {
        "id": "m8h9dKrAVE0t"
      }
    },
    {
      "cell_type": "markdown",
      "source": [
        "### Creating CUDA tensors"
      ],
      "metadata": {
        "id": "SP1WcDrAVpIz"
      }
    },
    {
      "cell_type": "code",
      "source": [
        "import torch\n",
        "print(torch.cuda.is_available())"
      ],
      "metadata": {
        "colab": {
          "base_uri": "https://localhost:8080/"
        },
        "id": "YbOWW9E5Rpat",
        "outputId": "28f520b8-8d87-4705-a446-a8f935f5a5fd"
      },
      "execution_count": null,
      "outputs": [
        {
          "output_type": "stream",
          "name": "stdout",
          "text": [
            "True\n"
          ]
        }
      ]
    },
    {
      "cell_type": "code",
      "source": [
        "# preferred method: device agnostic tensor instantiation\n",
        "device = torch.device(\"cuda\" if torch.cuda.is_available() else \"cpu\")\n",
        "print(device)"
      ],
      "metadata": {
        "colab": {
          "base_uri": "https://localhost:8080/"
        },
        "id": "G6D8iLEdRpYb",
        "outputId": "b64782a3-2b78-4073-b686-35f69a9e55ce"
      },
      "execution_count": null,
      "outputs": [
        {
          "output_type": "stream",
          "name": "stdout",
          "text": [
            "cuda\n"
          ]
        }
      ]
    },
    {
      "cell_type": "code",
      "source": [
        "x = torch.rand(3,3).to(device)\n",
        "describe(x)"
      ],
      "metadata": {
        "colab": {
          "base_uri": "https://localhost:8080/"
        },
        "id": "IZN6IUHtRpWL",
        "outputId": "4ca44fcc-da0b-4333-eb3a-8431c598357e"
      },
      "execution_count": null,
      "outputs": [
        {
          "output_type": "stream",
          "name": "stdout",
          "text": [
            "Type: torch.cuda.FloatTensor\n",
            "Shape/size: torch.Size([3, 3])\n",
            "Values:\n",
            "tensor([[0.9822, 0.7940, 0.0843],\n",
            "        [0.9132, 0.2309, 0.3524],\n",
            "        [0.9786, 0.9198, 0.4529]], device='cuda:0')\n"
          ]
        }
      ]
    },
    {
      "cell_type": "markdown",
      "source": [
        "### Mixing CUDA tensors with CPU-bound tensors\n",
        "* CUDA, non-CUDA object를 사용할 때, 같은 device에 있는지 확인필요. 그렇지 않을 경우, computation break.\n",
        "* 아래 예시에서 에러 발생 확인가능"
      ],
      "metadata": {
        "id": "2Tg99Fs_WIrQ"
      }
    },
    {
      "cell_type": "code",
      "source": [
        "y = torch.rand(3,3)\n",
        "x+y"
      ],
      "metadata": {
        "colab": {
          "base_uri": "https://localhost:8080/",
          "height": 216
        },
        "id": "9_cs7t9lRpT6",
        "outputId": "2c070bf8-c83b-4a99-a3db-9ea08a3e5a70"
      },
      "execution_count": null,
      "outputs": [
        {
          "output_type": "error",
          "ename": "RuntimeError",
          "evalue": "Expected all tensors to be on the same device, but found at least two devices, cuda:0 and cpu!",
          "traceback": [
            "\u001b[0;31m---------------------------------------------------------------------------\u001b[0m",
            "\u001b[0;31mRuntimeError\u001b[0m                              Traceback (most recent call last)",
            "\u001b[0;32m<ipython-input-6-0f9836fd7692>\u001b[0m in \u001b[0;36m<cell line: 2>\u001b[0;34m()\u001b[0m\n\u001b[1;32m      1\u001b[0m \u001b[0my\u001b[0m \u001b[0;34m=\u001b[0m \u001b[0mtorch\u001b[0m\u001b[0;34m.\u001b[0m\u001b[0mrand\u001b[0m\u001b[0;34m(\u001b[0m\u001b[0;36m3\u001b[0m\u001b[0;34m,\u001b[0m\u001b[0;36m3\u001b[0m\u001b[0;34m)\u001b[0m\u001b[0;34m\u001b[0m\u001b[0;34m\u001b[0m\u001b[0m\n\u001b[0;32m----> 2\u001b[0;31m \u001b[0mx\u001b[0m\u001b[0;34m+\u001b[0m\u001b[0my\u001b[0m\u001b[0;34m\u001b[0m\u001b[0;34m\u001b[0m\u001b[0m\n\u001b[0m",
            "\u001b[0;31mRuntimeError\u001b[0m: Expected all tensors to be on the same device, but found at least two devices, cuda:0 and cpu!"
          ]
        }
      ]
    },
    {
      "cell_type": "code",
      "source": [
        "cpu_device = torch.device(\"cpu\")\n",
        "y = y.to(cpu_device)\n",
        "x = x.to(cpu_device)\n",
        "x+y"
      ],
      "metadata": {
        "colab": {
          "base_uri": "https://localhost:8080/"
        },
        "id": "sJYb6zKGRpRl",
        "outputId": "3bb6826d-f83c-4776-c452-6e4ba4a3d304"
      },
      "execution_count": null,
      "outputs": [
        {
          "output_type": "execute_result",
          "data": {
            "text/plain": [
              "tensor([[1.6848, 0.9671, 0.6043],\n",
              "        [1.5971, 0.5178, 0.8131],\n",
              "        [1.2236, 1.1894, 0.7935]])"
            ]
          },
          "metadata": {},
          "execution_count": 7
        }
      ]
    },
    {
      "cell_type": "markdown",
      "source": [
        "It is expensive to move data back and forth from the GPU. Therefore, the typical procedure involves doing many of the parallelizable computations on the GPU and then transferring just the final result back to the CPU. This will allow you to fully utilize the GPUs. If you have several CUDA-visible devices(i.e., multiple GPUs), the best practice is to use the CUDA_VISIBLE_DEVICES environment variable when executing the program\n",
        "\n",
        "`CUDA_VISIBLE_DEVICES=0,1,2,3 python main.py`"
      ],
      "metadata": {
        "id": "tEzhQj6BW-F2"
      }
    },
    {
      "cell_type": "markdown",
      "source": [
        "# Exercises"
      ],
      "metadata": {
        "id": "WOwgqp9SX1g2"
      }
    },
    {
      "cell_type": "markdown",
      "source": [
        "1. Create a 2D tensor and then add a dimension of size 1 inserted at dimension 0"
      ],
      "metadata": {
        "id": "0lSLDG80X3sU"
      }
    },
    {
      "cell_type": "code",
      "source": [
        "a = torch.rand(3,3)\n",
        "a.unsqueeze(0)"
      ],
      "metadata": {
        "colab": {
          "base_uri": "https://localhost:8080/"
        },
        "id": "TqIKTfNhRpPT",
        "outputId": "5b1e5feb-9044-4598-8869-bca272456f45"
      },
      "execution_count": null,
      "outputs": [
        {
          "output_type": "execute_result",
          "data": {
            "text/plain": [
              "tensor([[[0.2448, 0.9430, 0.4632],\n",
              "         [0.4011, 0.7563, 0.8257],\n",
              "         [0.4887, 0.1293, 0.6006]]])"
            ]
          },
          "metadata": {},
          "execution_count": 8
        }
      ]
    },
    {
      "cell_type": "markdown",
      "source": [
        "unsqueeze(): add dimension of size 1. need to define where you add the dimension"
      ],
      "metadata": {
        "id": "jnfYlTBpZvPa"
      }
    },
    {
      "cell_type": "markdown",
      "source": [
        "2. Remove the extra dimension you just added to the previous tensor."
      ],
      "metadata": {
        "id": "jj4V7O8WX8VM"
      }
    },
    {
      "cell_type": "code",
      "source": [
        "a.squeeze(0)"
      ],
      "metadata": {
        "colab": {
          "base_uri": "https://localhost:8080/"
        },
        "id": "04xfkxizRpM8",
        "outputId": "565ac4b6-f2d2-46a1-d0fb-d479bc6515fb"
      },
      "execution_count": null,
      "outputs": [
        {
          "output_type": "execute_result",
          "data": {
            "text/plain": [
              "tensor([[0.2448, 0.9430, 0.4632],\n",
              "        [0.4011, 0.7563, 0.8257],\n",
              "        [0.4887, 0.1293, 0.6006]])"
            ]
          },
          "metadata": {},
          "execution_count": 9
        }
      ]
    },
    {
      "cell_type": "markdown",
      "source": [
        "squeeze(): remove dimension of size 1. If you choose dimension of the size, remove the dimension of the size"
      ],
      "metadata": {
        "id": "hebT83AzZcAc"
      }
    },
    {
      "cell_type": "markdown",
      "source": [
        "3. Create a random tensor of shape 5x3 in the interval [3,7)"
      ],
      "metadata": {
        "id": "5r9VLTX5YAOp"
      }
    },
    {
      "cell_type": "code",
      "source": [
        "a = 3+torch.rand(5,3)*(7-3)\n",
        "print(a)"
      ],
      "metadata": {
        "colab": {
          "base_uri": "https://localhost:8080/"
        },
        "id": "i6qBfVfORpKm",
        "outputId": "8e75a932-5df0-4fa5-f871-87a351e0ec09"
      },
      "execution_count": null,
      "outputs": [
        {
          "output_type": "stream",
          "name": "stdout",
          "text": [
            "tensor([[4.9205, 5.5030, 4.2642],\n",
            "        [3.8410, 5.4200, 4.5893],\n",
            "        [6.6695, 4.1409, 4.6291],\n",
            "        [6.6977, 4.1457, 5.5588],\n",
            "        [5.7260, 3.9335, 5.5922]])\n"
          ]
        }
      ]
    },
    {
      "cell_type": "markdown",
      "source": [
        "4. Create a tensor with values from a normal distribution (mean=0, std=1)"
      ],
      "metadata": {
        "id": "MeO4xjVVYGqz"
      }
    },
    {
      "cell_type": "code",
      "source": [
        "a = torch.randn(3,3)\n",
        "a"
      ],
      "metadata": {
        "colab": {
          "base_uri": "https://localhost:8080/"
        },
        "id": "3Ouhz1mURpIT",
        "outputId": "72c8f932-29e6-44eb-d93e-dd9f889d7801"
      },
      "execution_count": null,
      "outputs": [
        {
          "output_type": "execute_result",
          "data": {
            "text/plain": [
              "tensor([[-0.1236, -0.9187, -0.9060],\n",
              "        [-1.3344,  1.6519,  0.0409],\n",
              "        [ 0.8689,  0.1418,  0.4556]])"
            ]
          },
          "metadata": {},
          "execution_count": 27
        }
      ]
    },
    {
      "cell_type": "markdown",
      "source": [
        "5. Retrieve the indexes of all the nonzero elements in the tensor torch.Tensor([1,1,1,0,1])"
      ],
      "metadata": {
        "id": "z03H901cYMGB"
      }
    },
    {
      "cell_type": "code",
      "source": [
        "a = torch.Tensor([1,1,1,0,1])\n",
        "torch.nonzero(a)"
      ],
      "metadata": {
        "colab": {
          "base_uri": "https://localhost:8080/"
        },
        "id": "pmPNiit-YWEM",
        "outputId": "287f376e-6a54-495d-eecd-5fb7c8a70bb7"
      },
      "execution_count": null,
      "outputs": [
        {
          "output_type": "execute_result",
          "data": {
            "text/plain": [
              "tensor([[0],\n",
              "        [1],\n",
              "        [2],\n",
              "        [4]])"
            ]
          },
          "metadata": {},
          "execution_count": 28
        }
      ]
    },
    {
      "cell_type": "markdown",
      "source": [
        "6. Create a random tensor of size (3,1) and then horizontally stack four copies together"
      ],
      "metadata": {
        "id": "smMVroCgYWim"
      }
    },
    {
      "cell_type": "code",
      "source": [
        "a = torch.rand(3,1)\n",
        "a.expand(3,4)"
      ],
      "metadata": {
        "colab": {
          "base_uri": "https://localhost:8080/"
        },
        "id": "yWyE-hUBYWBm",
        "outputId": "1c29cf43-7355-4264-b3d9-23338a5b76ca"
      },
      "execution_count": null,
      "outputs": [
        {
          "output_type": "execute_result",
          "data": {
            "text/plain": [
              "tensor([[0.7891, 0.7891, 0.7891, 0.7891],\n",
              "        [0.6819, 0.6819, 0.6819, 0.6819],\n",
              "        [0.3602, 0.3602, 0.3602, 0.3602]])"
            ]
          },
          "metadata": {},
          "execution_count": 30
        }
      ]
    },
    {
      "cell_type": "markdown",
      "source": [
        "7. Return the batch matrix-matrix product of two three-dimensional matrices"
      ],
      "metadata": {
        "id": "ZP-wxIVCYbrs"
      }
    },
    {
      "cell_type": "code",
      "source": [
        "a = torch.rand(3,4,5)\n",
        "b = torch.rand(3,5,4)\n",
        "torch.bmm(a,b)"
      ],
      "metadata": {
        "colab": {
          "base_uri": "https://localhost:8080/"
        },
        "id": "_zFu5eU-YV_N",
        "outputId": "f9b6e424-b997-4a89-a86b-229b4d97ec95"
      },
      "execution_count": null,
      "outputs": [
        {
          "output_type": "execute_result",
          "data": {
            "text/plain": [
              "tensor([[[1.9668, 0.9266, 1.8186, 1.6429],\n",
              "         [1.3943, 0.3852, 0.8399, 1.3677],\n",
              "         [1.5733, 0.7475, 1.3582, 1.3025],\n",
              "         [2.2510, 0.9459, 1.5703, 1.9471]],\n",
              "\n",
              "        [[0.9535, 0.1922, 0.7647, 0.6638],\n",
              "         [1.7112, 0.6822, 1.0698, 0.7731],\n",
              "         [1.7918, 0.5267, 1.1256, 0.8851],\n",
              "         [1.4233, 0.7244, 1.0528, 0.7182]],\n",
              "\n",
              "        [[0.9511, 0.8278, 1.7722, 0.6934],\n",
              "         [1.6896, 1.3719, 2.5818, 1.5306],\n",
              "         [1.7271, 1.3471, 1.9680, 1.2615],\n",
              "         [1.5085, 1.0828, 1.8817, 1.1842]]])"
            ]
          },
          "metadata": {},
          "execution_count": 31
        }
      ]
    },
    {
      "cell_type": "markdown",
      "source": [
        "* torch.mm : 2차원 tensor 곱\n",
        "* torch.bmm : 3차원 tensor 곱"
      ],
      "metadata": {
        "id": "sJBgdv-hcCIW"
      }
    },
    {
      "cell_type": "markdown",
      "source": [
        "8. Return the batch matrix-matrix product of a 3D matrix and a 2D matrix"
      ],
      "metadata": {
        "id": "DEXP566mYhj-"
      }
    },
    {
      "cell_type": "code",
      "source": [
        "a = torch.rand(3,4,5)\n",
        "b = torch.rand(5,4)\n",
        "torch.bmm(a,b.unsqueeze(0).expand(a.size(0),*b.size()))"
      ],
      "metadata": {
        "colab": {
          "base_uri": "https://localhost:8080/"
        },
        "id": "equ1HAU0YVqd",
        "outputId": "74c375a7-71fa-48f5-e482-0cb36d3caed4"
      },
      "execution_count": null,
      "outputs": [
        {
          "output_type": "execute_result",
          "data": {
            "text/plain": [
              "tensor([[[0.9125, 1.5914, 0.8697, 1.1377],\n",
              "         [0.9872, 1.4219, 0.7271, 0.9546],\n",
              "         [0.7157, 1.4188, 0.6221, 0.9352],\n",
              "         [1.0608, 1.6024, 0.8291, 1.1706]],\n",
              "\n",
              "        [[0.7113, 1.5876, 0.5427, 0.8651],\n",
              "         [1.0125, 1.4226, 0.5279, 0.7074],\n",
              "         [0.8450, 1.2126, 0.4889, 0.6681],\n",
              "         [0.9564, 1.2175, 0.7119, 0.8840]],\n",
              "\n",
              "        [[1.2962, 2.2125, 0.9435, 1.1462],\n",
              "         [0.9216, 1.7465, 0.8049, 1.1075],\n",
              "         [0.2254, 0.6343, 0.1720, 0.3904],\n",
              "         [1.4691, 2.4132, 1.2177, 1.5431]]])"
            ]
          },
          "metadata": {},
          "execution_count": 32
        }
      ]
    },
    {
      "cell_type": "code",
      "source": [],
      "metadata": {
        "id": "AI43palGcJO0"
      },
      "execution_count": null,
      "outputs": []
    }
  ]
}