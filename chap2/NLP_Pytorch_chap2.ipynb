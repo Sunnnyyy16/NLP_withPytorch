{
  "nbformat": 4,
  "nbformat_minor": 0,
  "metadata": {
    "colab": {
      "provenance": [],
      "authorship_tag": "ABX9TyNPsaNeMeOSR4Eq9+XuzT1E",
      "include_colab_link": true
    },
    "kernelspec": {
      "name": "python3",
      "display_name": "Python 3"
    },
    "language_info": {
      "name": "python"
    }
  },
  "cells": [
    {
      "cell_type": "markdown",
      "metadata": {
        "id": "view-in-github",
        "colab_type": "text"
      },
      "source": [
        "<a href=\"https://colab.research.google.com/github/Sunnnyyy16/NLP_withPytorch/blob/main/chap2/NLP_Pytorch_chap2.ipynb\" target=\"_parent\"><img src=\"https://colab.research.google.com/assets/colab-badge.svg\" alt=\"Open In Colab\"/></a>"
      ]
    },
    {
      "cell_type": "markdown",
      "source": [
        "# A Quick tour of traditional NLP"
      ],
      "metadata": {
        "id": "oGDRCiiYbXxK"
      }
    },
    {
      "cell_type": "markdown",
      "source": [
        "## Corpora, Tokens, and Types"
      ],
      "metadata": {
        "id": "psm0Mga3bdX3"
      }
    },
    {
      "cell_type": "markdown",
      "source": [
        "### Tokenizing text"
      ],
      "metadata": {
        "id": "fMCtRrb2bgxX"
      }
    },
    {
      "cell_type": "code",
      "execution_count": null,
      "metadata": {
        "colab": {
          "base_uri": "https://localhost:8080/"
        },
        "id": "naSrMHdkbVHZ",
        "outputId": "3ff0a2e1-c1a0-439c-e603-ffe4924a94ea"
      },
      "outputs": [
        {
          "output_type": "stream",
          "name": "stdout",
          "text": [
            "['mary', ',', 'do', \"n't\", 'slap', 'the', 'green', 'witch']\n"
          ]
        }
      ],
      "source": [
        "import spacy\n",
        "nlp = spacy.load('en_core_web_sm')\n",
        "text = \"Mary, don't slap the green witch\"\n",
        "print([str(token) for token in nlp(text.lower())])"
      ]
    },
    {
      "cell_type": "code",
      "source": [
        "from nltk.tokenize import TweetTokenizer\n",
        "tweet = u\"Snow White and the Seven Degrees #MakeAMovieCold@midnight:-)\"\n",
        "tokenizer = TweetTokenizer()\n",
        "print(tokenizer.tokenize(tweet.lower()))"
      ],
      "metadata": {
        "colab": {
          "base_uri": "https://localhost:8080/"
        },
        "id": "sd3HACxpbjjT",
        "outputId": "78479e03-19b2-4768-c594-a8922b7cfd2f"
      },
      "execution_count": null,
      "outputs": [
        {
          "output_type": "stream",
          "name": "stdout",
          "text": [
            "['snow', 'white', 'and', 'the', 'seven', 'degrees', '#makeamoviecold', '@midnight', ':-)']\n"
          ]
        }
      ]
    },
    {
      "cell_type": "markdown",
      "source": [
        "## N-grams"
      ],
      "metadata": {
        "id": "z7UZ0BQBzYfL"
      }
    },
    {
      "cell_type": "markdown",
      "source": [
        "### Generating n-grams from text"
      ],
      "metadata": {
        "id": "bp7IhVJnl9oF"
      }
    },
    {
      "cell_type": "code",
      "source": [
        "def n_grams(text,n):\n",
        "  '''\n",
        "  takes token or text, returns a list of n-grams\n",
        "  '''\n",
        "  return [text[i:i+n] for i in range(len(text)-n+1)]\n",
        "\n",
        "cleaned = ['mary', ',', 'do', \"n't\", 'slap', 'the', 'green', 'witch']\n",
        "print(n_grams(cleaned, 3))"
      ],
      "metadata": {
        "colab": {
          "base_uri": "https://localhost:8080/"
        },
        "id": "gCunuNHXbjhx",
        "outputId": "d29a64ce-34ac-48d2-b955-88b64b2bfc90"
      },
      "execution_count": null,
      "outputs": [
        {
          "output_type": "stream",
          "name": "stdout",
          "text": [
            "[['mary', ',', 'do'], [',', 'do', \"n't\"], ['do', \"n't\", 'slap'], [\"n't\", 'slap', 'the'], ['slap', 'the', 'green'], ['the', 'green', 'witch']]\n"
          ]
        }
      ]
    },
    {
      "cell_type": "markdown",
      "source": [
        "## Lemmas and Stems"
      ],
      "metadata": {
        "id": "_iejdPqSnRx2"
      }
    },
    {
      "cell_type": "markdown",
      "source": [
        "### Lemmatization: reducing words to their root forms"
      ],
      "metadata": {
        "id": "UVgt_V7JnWdt"
      }
    },
    {
      "cell_type": "code",
      "source": [
        "import spacy\n",
        "nlp = spacy.load('en_core_web_sm')\n",
        "doc = nlp(u\"he was running late\")\n",
        "for token in doc:\n",
        "  print('{} --> {}'.format(token, token.lemma_))"
      ],
      "metadata": {
        "colab": {
          "base_uri": "https://localhost:8080/"
        },
        "id": "w5548dlobjfa",
        "outputId": "94fcce25-891d-4494-8727-ee87eb8a032d"
      },
      "execution_count": null,
      "outputs": [
        {
          "output_type": "stream",
          "name": "stdout",
          "text": [
            "he --> he\n",
            "was --> be\n",
            "running --> run\n",
            "late --> late\n"
          ]
        }
      ]
    },
    {
      "cell_type": "markdown",
      "source": [
        "## Categorizing Words: POS Tagging"
      ],
      "metadata": {
        "id": "oSHqK_3-nsnf"
      }
    },
    {
      "cell_type": "markdown",
      "source": [
        "### Part of speech tagging"
      ],
      "metadata": {
        "id": "IlwPR7pJnvSr"
      }
    },
    {
      "cell_type": "code",
      "source": [
        "import spacy\n",
        "nlp = spacy.load('en_core_web_sm')\n",
        "doc = nlp(u\"Mary slapped the green witch.\")\n",
        "for token in doc:\n",
        "  print('{} - {}'.format(token, token.pos_))"
      ],
      "metadata": {
        "colab": {
          "base_uri": "https://localhost:8080/"
        },
        "id": "sQklmHRpbjdH",
        "outputId": "037b0c5e-4652-4cb6-a092-38542aa0d7c9"
      },
      "execution_count": null,
      "outputs": [
        {
          "output_type": "stream",
          "name": "stdout",
          "text": [
            "Mary - PROPN\n",
            "slapped - VERB\n",
            "the - DET\n",
            "green - ADJ\n",
            "witch - NOUN\n",
            ". - PUNCT\n"
          ]
        }
      ]
    },
    {
      "cell_type": "markdown",
      "source": [
        "## Categorizing spans: chunking and named entity recognition"
      ],
      "metadata": {
        "id": "9uudAs_roAmm"
      }
    },
    {
      "cell_type": "markdown",
      "source": [
        "### Noun Phrase (NP) chunking"
      ],
      "metadata": {
        "id": "1VmCxdgZoENY"
      }
    },
    {
      "cell_type": "code",
      "source": [
        "import spacy\n",
        "nlp = spacy.load('en_core_web_sm')\n",
        "doc = nlp(u\"Mary slapped the green witch.\")\n",
        "for chunk in doc.noun_chunks:\n",
        "  print('{} - {}'.format(chunk, chunk.label_))"
      ],
      "metadata": {
        "colab": {
          "base_uri": "https://localhost:8080/"
        },
        "id": "zb-pn8c1bjax",
        "outputId": "78b94947-182d-4d9c-8667-6a6e03ad35ec"
      },
      "execution_count": null,
      "outputs": [
        {
          "output_type": "stream",
          "name": "stdout",
          "text": [
            "Mary - NP\n",
            "the green witch - NP\n"
          ]
        }
      ]
    },
    {
      "cell_type": "code",
      "source": [],
      "metadata": {
        "id": "dyMuA83ObjYK"
      },
      "execution_count": null,
      "outputs": []
    },
    {
      "cell_type": "code",
      "source": [],
      "metadata": {
        "id": "6GP924icbjV-"
      },
      "execution_count": null,
      "outputs": []
    }
  ]
}